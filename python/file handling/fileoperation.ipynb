{
 "cells": [
  {
   "cell_type": "code",
   "execution_count": 12,
   "metadata": {},
   "outputs": [
    {
     "name": "stdout",
     "output_type": "stream",
     "text": [
      "hii how are you?\n",
      "i am good\n",
      "\n"
     ]
    }
   ],
   "source": [
    "## Read a whole file \n",
    "\n",
    "with open('example.txt','r') as file:\n",
    "    content = file.read()\n",
    "    print(content)"
   ]
  },
  {
   "cell_type": "code",
   "execution_count": null,
   "metadata": {},
   "outputs": [
    {
     "name": "stdout",
     "output_type": "stream",
     "text": [
      "hii how are you?\n",
      "i am good\n"
     ]
    }
   ],
   "source": [
    "## read a file line by line\n",
    "with open('example.txt','r') as file:\n",
    "    for line in file:\n",
    "        print(line.strip()) ## .strip removes the new line character\n",
    "     "
   ]
  },
  {
   "cell_type": "code",
   "execution_count": 15,
   "metadata": {},
   "outputs": [],
   "source": [
    "### writing a file\n",
    "with open ('example.txt','w') as file:\n",
    "    file.write('Hello world\\n')\n",
    "    file.write('this is a new line.')"
   ]
  },
  {
   "cell_type": "code",
   "execution_count": 3,
   "metadata": {},
   "outputs": [],
   "source": [
    "## write a file without over writing\n",
    "\n",
    "with open ('example.txt','a') as file:\n",
    "    file.write('append operation taking place\\n ')"
   ]
  },
  {
   "cell_type": "code",
   "execution_count": 6,
   "metadata": {},
   "outputs": [],
   "source": [
    "## writing a list of lines to a file \n",
    "lines = ['first line\\n','second line\\n','third line\\n']\n",
    "with open('example.txt','a') as file:\n",
    "    file.writelines(lines)\n",
    "    "
   ]
  },
  {
   "cell_type": "code",
   "execution_count": 14,
   "metadata": {},
   "outputs": [],
   "source": [
    "## read the content from source file and write to a destination text file \n",
    "\n",
    "with open('example.txt','r') as file:\n",
    "    content = file.read()\n",
    "    \n",
    "with open('destination.txt','w') as destination_file:\n",
    "    destination_file.write(content)    "
   ]
  },
  {
   "cell_type": "code",
   "execution_count": 15,
   "metadata": {},
   "outputs": [
    {
     "name": "stdout",
     "output_type": "stream",
     "text": [
      "Lines: 1, words: 2, Characters : 1\n"
     ]
    }
   ],
   "source": [
    "## read a text file and count the number of lines , words , and character >\n",
    "\n",
    "def count_text_file(file_path):\n",
    "    with open('example.txt','r') as file:\n",
    "        lines = file.readlines()\n",
    "        line_count = len(lines)\n",
    "        word_count = sum(len(line.split()) for line in lines )\n",
    "        char_count = sum(len(lines) for line in lines )\n",
    "    return line_count, word_count,char_count   \n",
    "\n",
    "file_path = 'example.txt'\n",
    "lines , words , characters = count_text_file(\"example.txt\") \n",
    "print(f\"Lines: {lines}, words: {words}, Characters : {characters}\")"
   ]
  },
  {
   "cell_type": "code",
   "execution_count": 19,
   "metadata": {},
   "outputs": [
    {
     "name": "stdout",
     "output_type": "stream",
     "text": [
      "hello world\n",
      "this is a new linw \n",
      "\n"
     ]
    }
   ],
   "source": [
    "## writing and then reading a file \n",
    "\n",
    "with open('example.txt','w+') as file:\n",
    "    file.write(\"hello world\\n\")\n",
    "    file.write(\"this is a new linw \\n\")\n",
    "    \n",
    "    ## move the file cursor to the beggining\n",
    "    file.seek(0)\n",
    "    content = file.read() \n",
    "    print(content)\n",
    "    "
   ]
  },
  {
   "cell_type": "code",
   "execution_count": null,
   "metadata": {},
   "outputs": [],
   "source": []
  }
 ],
 "metadata": {
  "kernelspec": {
   "display_name": "base",
   "language": "python",
   "name": "python3"
  },
  "language_info": {
   "codemirror_mode": {
    "name": "ipython",
    "version": 3
   },
   "file_extension": ".py",
   "mimetype": "text/x-python",
   "name": "python",
   "nbconvert_exporter": "python",
   "pygments_lexer": "ipython3",
   "version": "3.12.4"
  }
 },
 "nbformat": 4,
 "nbformat_minor": 2
}
