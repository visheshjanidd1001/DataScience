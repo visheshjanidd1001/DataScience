{
 "cells": [
  {
   "cell_type": "code",
   "execution_count": 27,
   "id": "4885cd7e-23a8-4e63-ae63-af60a1355453",
   "metadata": {},
   "outputs": [],
   "source": [
    "import cv2"
   ]
  },
  {
   "cell_type": "code",
   "execution_count": 29,
   "id": "e3c5887b-9ad4-4884-88a0-cab273fdbd96",
   "metadata": {},
   "outputs": [],
   "source": [
    "cap =  cv2.VideoCapture(0)"
   ]
  },
  {
   "cell_type": "code",
   "execution_count": 30,
   "id": "9ed6d4e7-1f8f-46d3-a154-427ae8019dd8",
   "metadata": {},
   "outputs": [],
   "source": [
    "status , photo = cap.read()"
   ]
  },
  {
   "cell_type": "code",
   "execution_count": 31,
   "id": "2b721cc0-7727-43cd-8144-f5dad3a8921f",
   "metadata": {},
   "outputs": [
    {
     "data": {
      "text/plain": [
       "-1"
      ]
     },
     "execution_count": 31,
     "metadata": {},
     "output_type": "execute_result"
    }
   ],
   "source": [
    "cv2.imshow(\"vishesh photo\" , photo)\n",
    "cv2.waitKey(5000)"
   ]
  },
  {
   "cell_type": "raw",
   "id": "1e5c8226-b1a4-4a35-839a-5af077bf7cd8",
   "metadata": {},
   "source": [
    "cap.release()"
   ]
  },
  {
   "cell_type": "code",
   "execution_count": 32,
   "id": "cccebfa9-4de4-4e69-a35b-8c92ea60f02c",
   "metadata": {},
   "outputs": [],
   "source": [
    "cv2.destroyAllWindows()"
   ]
  },
  {
   "cell_type": "code",
   "execution_count": 23,
   "id": "fc1e4b44-21de-4335-b983-dd02897494a0",
   "metadata": {},
   "outputs": [
    {
     "data": {
      "text/plain": [
       "numpy.ndarray"
      ]
     },
     "execution_count": 23,
     "metadata": {},
     "output_type": "execute_result"
    }
   ],
   "source": [
    "type(photo)"
   ]
  },
  {
   "cell_type": "code",
   "execution_count": 25,
   "id": "70c2e105-c538-406a-82bb-27036a200fe1",
   "metadata": {},
   "outputs": [],
   "source": [
    "import numpy"
   ]
  },
  {
   "cell_type": "code",
   "execution_count": null,
   "id": "30dfaed0-672b-4459-81d2-497c91291b69",
   "metadata": {},
   "outputs": [],
   "source": [
    "a = numpy.a"
   ]
  },
  {
   "cell_type": "code",
   "execution_count": null,
   "id": "74665fd9-60c2-4b24-94e1-9e0f5875fffe",
   "metadata": {},
   "outputs": [],
   "source": []
  }
 ],
 "metadata": {
  "kernelspec": {
   "display_name": "Python 3 (ipykernel)",
   "language": "python",
   "name": "python3"
  },
  "language_info": {
   "codemirror_mode": {
    "name": "ipython",
    "version": 3
   },
   "file_extension": ".py",
   "mimetype": "text/x-python",
   "name": "python",
   "nbconvert_exporter": "python",
   "pygments_lexer": "ipython3",
   "version": "3.12.4"
  }
 },
 "nbformat": 4,
 "nbformat_minor": 5
}
