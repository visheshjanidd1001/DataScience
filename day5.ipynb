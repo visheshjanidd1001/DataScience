{
 "cells": [
  {
   "cell_type": "markdown",
   "metadata": {},
   "source": [
    "## Encapsulation"
   ]
  },
  {
   "cell_type": "code",
   "execution_count": 8,
   "metadata": {},
   "outputs": [
    {
     "name": "stdout",
     "output_type": "stream",
     "text": [
      "arya main campus\n",
      "vishesh\n",
      "22\n"
     ]
    }
   ],
   "source": [
    "class arya:\n",
    "    def __init__(self,name,age,rollno):\n",
    "        \n",
    "        self.name = name\n",
    "        self.__age = age\n",
    "        self._rollno = rollno\n",
    "        \n",
    "class student(arya):\n",
    "    print(\"arya main campus\")\n",
    "        \n",
    "obj = student(\"vishesh\",20,22)\n",
    "print(obj.name)\n",
    "print(obj._rollno)       \n",
    "        \n",
    "        \n",
    "\n",
    "    "
   ]
  },
  {
   "cell_type": "code",
   "execution_count": null,
   "metadata": {},
   "outputs": [
    {
     "name": "stdout",
     "output_type": "stream",
     "text": [
      "waiting\n"
     ]
    }
   ],
   "source": [
    "import socket \n",
    "\n",
    "server = socket.socket(socket.AF_INET,socket.SOCK_DGRAM)\n",
    "server.bind((\"0.0.0.0\",8080))\n",
    "\n",
    "print(\"waiting\")\n",
    "msg,addr = server.recvfrom(1024)\n",
    "print(f\"received {addr}: {msg.decode('ascii')}\")\n",
    "\n",
    "server.close()"
   ]
  },
  {
   "cell_type": "code",
   "execution_count": null,
   "metadata": {},
   "outputs": [],
   "source": []
  }
 ],
 "metadata": {
  "kernelspec": {
   "display_name": "base",
   "language": "python",
   "name": "python3"
  },
  "language_info": {
   "codemirror_mode": {
    "name": "ipython",
    "version": 3
   },
   "file_extension": ".py",
   "mimetype": "text/x-python",
   "name": "python",
   "nbconvert_exporter": "python",
   "pygments_lexer": "ipython3",
   "version": "3.12.4"
  }
 },
 "nbformat": 4,
 "nbformat_minor": 2
}
