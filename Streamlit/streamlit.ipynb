{
 "cells": [
  {
   "cell_type": "markdown",
   "id": "aaf36f80",
   "metadata": {},
   "source": [
    "## Introduction to streamlit\n",
    "Streamlit is an open source app framework for machine learning and datascience projects. It allows you to create beautiful web applications for your machine learning and data science projects with simple python scripts"
   ]
  },
  {
   "cell_type": "code",
   "execution_count": null,
   "id": "7ac7de41",
   "metadata": {},
   "outputs": [],
   "source": []
  }
 ],
 "metadata": {
  "kernelspec": {
   "display_name": "base",
   "language": "python",
   "name": "python3"
  },
  "language_info": {
   "name": "python",
   "version": "3.12.4"
  }
 },
 "nbformat": 4,
 "nbformat_minor": 5
}
