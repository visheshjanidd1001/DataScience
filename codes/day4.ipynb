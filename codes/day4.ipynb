{
 "cells": [
  {
   "cell_type": "code",
   "execution_count": 1,
   "metadata": {},
   "outputs": [
    {
     "name": "stdout",
     "output_type": "stream",
     "text": [
      "10\n"
     ]
    }
   ],
   "source": [
    "class Arya:\n",
    "    a=10\n",
    "a1 = Arya()\n",
    "print(a1.a)    "
   ]
  },
  {
   "cell_type": "code",
   "execution_count": 3,
   "metadata": {},
   "outputs": [
    {
     "name": "stdout",
     "output_type": "stream",
     "text": [
      "hod\n",
      "None\n"
     ]
    }
   ],
   "source": [
    "class Arya:\n",
    "    def hod():\n",
    "        print(\"hod\")\n",
    "a1 = Arya.hod()\n",
    "print(a1)"
   ]
  },
  {
   "cell_type": "code",
   "execution_count": 4,
   "metadata": {},
   "outputs": [],
   "source": [
    "class Arya:\n",
    "    def __init__(self):\n",
    "        print(\"arya college\")"
   ]
  },
  {
   "cell_type": "code",
   "execution_count": 2,
   "metadata": {},
   "outputs": [
    {
     "name": "stdout",
     "output_type": "stream",
     "text": [
      "arun\n",
      "kukas\n"
     ]
    }
   ],
   "source": [
    "class Arya_old:\n",
    "    def __init__(self, name ,address  ):\n",
    "        self.name = name \n",
    "        self.address =  address \n",
    "        \n",
    "obj = Arya_old(\"arun\", \"kukas\")\n",
    "print(obj.name)\n",
    "print(obj.address)\n"
   ]
  },
  {
   "cell_type": "code",
   "execution_count": 3,
   "metadata": {},
   "outputs": [
    {
     "name": "stdout",
     "output_type": "stream",
     "text": [
      "kukas\n",
      "qwe\n"
     ]
    }
   ],
   "source": [
    "class Arya:\n",
    "    def __init__(self,address,director):\n",
    "        self.address = address\n",
    "        self.director = director\n",
    "    def display(self):\n",
    "        print(self.address)\n",
    "        print(self.director)\n",
    "obj = Arya(\"kukas\", \"qwe\")\n",
    "obj.display()\n",
    "    "
   ]
  },
  {
   "cell_type": "markdown",
   "metadata": {},
   "source": [
    "## Inheritance"
   ]
  },
  {
   "cell_type": "markdown",
   "metadata": {},
   "source": [
    "There are 5 types of inheritance \n",
    "1. Single Inheritance \n",
    "2. Multiple Inheritance \n",
    "3. Hybrid Inheritance \n",
    "4. Heirachichal Inheritance \n",
    "5. Multilevel Inheritance"
   ]
  },
  {
   "cell_type": "code",
   "execution_count": null,
   "metadata": {},
   "outputs": [
    {
     "ename": "SyntaxError",
     "evalue": "expected ':' (2196625524.py, line 2)",
     "output_type": "error",
     "traceback": [
      "\u001b[1;36m  Cell \u001b[1;32mIn[1], line 2\u001b[1;36m\u001b[0m\n\u001b[1;33m    def __init__()\u001b[0m\n\u001b[1;37m                  ^\u001b[0m\n\u001b[1;31mSyntaxError\u001b[0m\u001b[1;31m:\u001b[0m expected ':'\n"
     ]
    }
   ],
   "source": [
    "class Arya:\n",
    "    def __init__(self,name,address):\n",
    "        self.name = name\n",
    "        self.address = address\n",
    "    \n",
    "    pass \n",
    "class Aryaold(Arya):\n",
    "    pass \n"
   ]
  },
  {
   "cell_type": "code",
   "execution_count": null,
   "metadata": {},
   "outputs": [
    {
     "ename": "SyntaxError",
     "evalue": "invalid syntax (3687893522.py, line 7)",
     "output_type": "error",
     "traceback": [
      "\u001b[1;36m  Cell \u001b[1;32mIn[2], line 7\u001b[1;36m\u001b[0m\n\u001b[1;33m    def\u001b[0m\n\u001b[1;37m        ^\u001b[0m\n\u001b[1;31mSyntaxError\u001b[0m\u001b[1;31m:\u001b[0m invalid syntax\n"
     ]
    }
   ],
   "source": [
    "class Bankdetails:\n",
    "    def __init__(self,accountnumber):\n",
    "        self.accountnumber = accountnumber\n",
    "    def customer(Self):\n",
    "        print(\"customer details\")\n",
    "class Customer(Bankdetails):\n",
    "    def __init__(self,accountnumber):\n",
    "        \n",
    "    "
   ]
  },
  {
   "cell_type": "code",
   "execution_count": 11,
   "metadata": {},
   "outputs": [
    {
     "name": "stdout",
     "output_type": "stream",
     "text": [
      "son\n"
     ]
    },
    {
     "data": {
      "text/plain": [
       "'aryaold'"
      ]
     },
     "execution_count": 11,
     "metadata": {},
     "output_type": "execute_result"
    }
   ],
   "source": [
    "class Grandfather:\n",
    "    grandfathername = \"arya\"\n",
    "    \n",
    "class Father:\n",
    "    fathername = \"aryaold\"\n",
    "    \n",
    "class Son(Grandfather,Father):\n",
    "    print(\"son\")\n",
    "\n",
    "obj = Son()\n",
    "obj.grandfathername\n",
    "obj.fathername"
   ]
  },
  {
   "cell_type": "code",
   "execution_count": null,
   "metadata": {},
   "outputs": [],
   "source": [
    "## hybrid \n"
   ]
  },
  {
   "cell_type": "code",
   "execution_count": null,
   "metadata": {},
   "outputs": [],
   "source": []
  }
 ],
 "metadata": {
  "kernelspec": {
   "display_name": "base",
   "language": "python",
   "name": "python3"
  },
  "language_info": {
   "codemirror_mode": {
    "name": "ipython",
    "version": 3
   },
   "file_extension": ".py",
   "mimetype": "text/x-python",
   "name": "python",
   "nbconvert_exporter": "python",
   "pygments_lexer": "ipython3",
   "version": "3.12.4"
  }
 },
 "nbformat": 4,
 "nbformat_minor": 2
}
