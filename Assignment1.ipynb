{
 "cells": [
  {
   "cell_type": "markdown",
   "metadata": {},
   "source": [
    "## QUE 1 ---\n",
    "How do lists and tuples differ in terms of mutability and\n",
    "performance? When would you choose one over the other?\n"
   ]
  },
  {
   "cell_type": "markdown",
   "metadata": {},
   "source": [
    "Lists and tuples in Python differ mainly in terms of **mutability** and **performance**:\n",
    "\n",
    "### 1. **Mutability**:\n",
    "   - **List**: Mutable, meaning you can modify its content (e.g., adding, removing, or changing elements) after it is created.\n",
    "   - **Tuple**: Immutable, meaning once it is created, its content cannot be changed. You cannot add, remove, or modify elements in a tuple.\n",
    "\n",
    "### 2. **Performance**:\n",
    "   - **List**: Lists are generally slower than tuples due to their mutability. The flexibility to modify the list requires more overhead in memory management.\n",
    "   - **Tuple**: Tuples are faster than lists, as they are immutable. They have less overhead because Python doesn’t need to manage changes to the structure once it’s created. This makes tuple operations slightly more efficient in terms of performance, especially when it comes to iteration.\n",
    "\n",
    "### 3. **When to Choose One Over the Other**:\n",
    "   - **Choose a List** when:\n",
    "     - You need to modify the collection (adding/removing elements, updating values).\n",
    "     - You are working with a dynamic dataset.\n",
    "   \n",
    "   - **Choose a Tuple** when:\n",
    "     - The collection should remain constant (no changes needed after creation).\n",
    "     - You need better performance and memory efficiency for large datasets.\n",
    "     - You want to ensure data integrity, preventing accidental modifications.\n",
    "     - You need to use the collection as a dictionary key (since tuples are hashable, unlike lists).\n",
    "\n",
    "In short:\n",
    "- Use **lists** when you need a flexible, mutable collection.\n",
    "- Use **tuples** when you need a fixed, immutable collection with better performance and data integrity."
   ]
  },
  {
   "cell_type": "markdown",
   "metadata": {},
   "source": [
    "## QUE 2 --\n",
    "Explain how Python handles type conversion between different data\n",
    "types, such as between integers and floats or between strings and\n",
    "lists."
   ]
  },
  {
   "cell_type": "markdown",
   "metadata": {},
   "source": []
  },
  {
   "cell_type": "code",
   "execution_count": 2,
   "metadata": {},
   "outputs": [
    {
     "name": "stdout",
     "output_type": "stream",
     "text": [
      "12\n"
     ]
    }
   ],
   "source": [
    "## que 3 \n",
    "\n",
    "\n",
    "num = 2\n",
    "num += 10\n",
    "print(num)\n"
   ]
  },
  {
   "cell_type": "code",
   "execution_count": 2,
   "metadata": {},
   "outputs": [
    {
     "name": "stdout",
     "output_type": "stream",
     "text": [
      "2020 is a leap year\n"
     ]
    }
   ],
   "source": [
    "## check year is leap or not \n",
    "\n",
    "year = int(input(\"Enter the year\"))\n",
    "if year%4==0:\n",
    "    if year%100==0:\n",
    "        if year%400==0:\n",
    "            print(year,\"is a leap year\")\n",
    "        else:\n",
    "            print(year,\"is not a leap year\")\n",
    "    else:\n",
    "        print(year,\"is a leap year\")           \n",
    "else:\n",
    "    print(year,\"is not a leap year\")\n"
   ]
  },
  {
   "cell_type": "code",
   "execution_count": null,
   "metadata": {},
   "outputs": [],
   "source": []
  }
 ],
 "metadata": {
  "kernelspec": {
   "display_name": "base",
   "language": "python",
   "name": "python3"
  },
  "language_info": {
   "codemirror_mode": {
    "name": "ipython",
    "version": 3
   },
   "file_extension": ".py",
   "mimetype": "text/x-python",
   "name": "python",
   "nbconvert_exporter": "python",
   "pygments_lexer": "ipython3",
   "version": "3.12.4"
  }
 },
 "nbformat": 4,
 "nbformat_minor": 2
}
