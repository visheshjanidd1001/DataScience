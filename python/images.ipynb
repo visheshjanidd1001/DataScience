{
 "cells": [
  {
   "cell_type": "code",
   "execution_count": 1,
   "id": "63703fae-d995-4761-94f7-96e5a8ef84b3",
   "metadata": {},
   "outputs": [],
   "source": [
    "import numpy as np\n",
    "import cv2\n",
    "from PIL import Image\n",
    "\n",
    "# Define the dimensions of the image\n",
    "width, height = 256, 256\n",
    "\n",
    "# Create a blank image with 3 channels (RGB) and dtype=uint8\n",
    "image = np.zeros((height, width, 3), dtype=np.uint8)\n",
    "\n",
    "# Fill the image with custom colors (BGR format for OpenCV)\n",
    "# Example: Create a gradient from blue to red\n",
    "for y in range(height):\n",
    "    for x in range(width):\n",
    "        image[y, x] = [x % 256, 0, y % 256]  # Blue to Red gradient\n",
    "\n",
    "# Save the image using OpenCV\n",
    "cv2.imwrite('custom_image.png', image)\n",
    "\n",
    "# Alternatively, save the image using Pillow\n",
    "image_pil = Image.fromarray(image)\n",
    "image_pil.save('custom_image_pil.png')\n",
    "\n",
    "# Display the image using OpenCV\n",
    "cv2.imshow('Custom Image', image)\n",
    "cv2.waitKey(0)\n",
    "cv2.destroyAllWindows()"
   ]
  },
  {
   "cell_type": "code",
   "execution_count": 2,
   "id": "3f25605c-25f6-4865-9345-8d31bda13c65",
   "metadata": {},
   "outputs": [],
   "source": [
    "# Create a solid color image (e.g., blue)\n",
    "blue_image = np.zeros((height, width, 3), dtype=np.uint8)\n",
    "blue_image[:] = [255, 0, 0]  # BGR for blue\n",
    "\n",
    "# Save and display the solid color image\n",
    "cv2.imwrite('blue_image.png', blue_image)\n",
    "cv2.imshow('Blue Image', blue_image)\n",
    "cv2.waitKey(0)\n",
    "cv2.destroyAllWindows()\n"
   ]
  },
  {
   "cell_type": "code",
   "execution_count": 14,
   "id": "1c1d9abd-1e43-48db-af41-066ea4bcf77b",
   "metadata": {},
   "outputs": [],
   "source": [
    "# Create a checkerboard pattern\n",
    "checkerboard = np.zeros((height, width, 3), dtype=np.uint8)\n",
    "for y in range(0, height, 32):\n",
    "    for x in range(0, width, 32):\n",
    "        if (x // 32) % 2 == (y // 32) % 2:\n",
    "            checkerboard[y:y+32, x:x+32] = [255, 255, 255]  # White squares\n",
    "\n",
    "# Save and display the checkerboard pattern\n",
    "cv2.imwrite('checkerboard.png', checkerboard)\n",
    "cv2.imshow('Checkerboard', checkerboard)\n",
    "cv2.waitKey(0)\n",
    "cv2.destroyAllWindows()"
   ]
  },
  {
   "cell_type": "code",
   "execution_count": null,
   "id": "614df14c-3a94-4526-9e55-0b20dfe03d4d",
   "metadata": {},
   "outputs": [],
   "source": []
  }
 ],
 "metadata": {
  "kernelspec": {
   "display_name": "base",
   "language": "python",
   "name": "python3"
  },
  "language_info": {
   "codemirror_mode": {
    "name": "ipython",
    "version": 3
   },
   "file_extension": ".py",
   "mimetype": "text/x-python",
   "name": "python",
   "nbconvert_exporter": "python",
   "pygments_lexer": "ipython3",
   "version": "3.12.4"
  }
 },
 "nbformat": 4,
 "nbformat_minor": 5
}
