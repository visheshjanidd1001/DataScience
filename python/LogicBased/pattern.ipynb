{
 "cells": [
  {
   "cell_type": "markdown",
   "id": "1d6a68ad",
   "metadata": {},
   "source": [
    "## Right Angled Triangle Pattern "
   ]
  },
  {
   "cell_type": "code",
   "execution_count": 2,
   "id": "61104e3f",
   "metadata": {},
   "outputs": [
    {
     "name": "stdout",
     "output_type": "stream",
     "text": [
      "* \n",
      "* * \n",
      "* * * \n",
      "* * * * \n",
      "* * * * * \n"
     ]
    }
   ],
   "source": [
    "rows = int(input(\"Enter the row size of the patterns\"))\n",
    "for i in range(1, rows+1):\n",
    "    for j in range(1, i+1):\n",
    "        print(\"*\",end=\" \")\n",
    "    print()    "
   ]
  },
  {
   "cell_type": "markdown",
   "id": "d4bb68bd",
   "metadata": {},
   "source": [
    "## Inverted Right Angled Triangle "
   ]
  },
  {
   "cell_type": "code",
   "execution_count": 4,
   "id": "f679df1f",
   "metadata": {},
   "outputs": [
    {
     "name": "stdout",
     "output_type": "stream",
     "text": [
      "* * * * * \n",
      "* * * * \n",
      "* * * \n",
      "* * \n",
      "* \n"
     ]
    }
   ],
   "source": [
    "rows = int(input(\"Enter the row size for the pattern: \"))\n",
    "for i in range (rows, 0 ,-1):\n",
    "    for j in range(1, i+1):\n",
    "        print(\"*\", end=\" \")\n",
    "    print()    "
   ]
  },
  {
   "cell_type": "markdown",
   "id": "d9da373d",
   "metadata": {},
   "source": [
    "## Pyramid Pattern "
   ]
  },
  {
   "cell_type": "code",
   "execution_count": 5,
   "id": "95090488",
   "metadata": {},
   "outputs": [
    {
     "name": "stdout",
     "output_type": "stream",
     "text": [
      "        * \n",
      "      * * * \n",
      "    * * * * * \n",
      "  * * * * * * * \n",
      "* * * * * * * * * \n"
     ]
    }
   ],
   "source": [
    "rows = int(input(\"Enter the row size for the pattern: \"))\n",
    "for i in range(1, rows + 1):\n",
    "    for j in range(rows -i):\n",
    "        print(\" \", end=\" \")\n",
    "    for k in range(1, 2*i):\n",
    "        print(\"*\", end=\" \")\n",
    "    print()        "
   ]
  },
  {
   "cell_type": "markdown",
   "id": "130b0cc5",
   "metadata": {},
   "source": [
    "## Inverted pyramid pattern "
   ]
  },
  {
   "cell_type": "code",
   "execution_count": 6,
   "id": "faee8524",
   "metadata": {},
   "outputs": [
    {
     "name": "stdout",
     "output_type": "stream",
     "text": [
      "* * * * * * * \n",
      "  * * * * * \n",
      "    * * * \n",
      "      * \n"
     ]
    }
   ],
   "source": [
    "rows = int(input(\"Enter the row size: \"))\n",
    "for i in range(rows , 0, -1):\n",
    "    for j in range(rows - i):\n",
    "        print(\" \", end=\" \")\n",
    "    for k in range(1 , 2*i):\n",
    "        print(\"*\", end=\" \")\n",
    "    print()        "
   ]
  },
  {
   "cell_type": "markdown",
   "id": "8319bce5",
   "metadata": {},
   "source": [
    "## Diamond pattern "
   ]
  },
  {
   "cell_type": "code",
   "execution_count": 8,
   "id": "b9ef1d1f",
   "metadata": {},
   "outputs": [
    {
     "name": "stdout",
     "output_type": "stream",
     "text": [
      "    * \n",
      "  * * * \n",
      "* * * * * \n",
      "  * * * \n",
      "    * \n"
     ]
    }
   ],
   "source": [
    "rows =  int(input(\"Enter the Row size: \"))\n",
    "for i in range(1,rows +1):\n",
    "    for j in range(rows -i):\n",
    "        print(\" \", end=\" \")\n",
    "    for k in range(1, 2*i):\n",
    "        print(\"*\", end=\" \")\n",
    "    print()\n",
    "\n",
    "## lower part\n",
    "\n",
    "for i in range(rows -1, 0,-1):\n",
    "    for j in range(rows -i):\n",
    "        print(\" \", end=\" \")\n",
    "    for k in range(1,2*i):\n",
    "        print(\"*\", end=\" \")\n",
    "    print()                    "
   ]
  },
  {
   "cell_type": "markdown",
   "id": "6988d9c3",
   "metadata": {},
   "source": [
    "## Hollow square "
   ]
  },
  {
   "cell_type": "code",
   "execution_count": 9,
   "id": "d175d580",
   "metadata": {},
   "outputs": [
    {
     "name": "stdout",
     "output_type": "stream",
     "text": [
      "* * * \n",
      "*   * \n",
      "* * * \n"
     ]
    }
   ],
   "source": [
    "rows = int(input(\"Enter the row size: \"))\n",
    "for i in range(1, rows +1):\n",
    "    for j in range(1, rows +1):\n",
    "        if i == 1 or i == rows or j == 1 or j == rows :\n",
    "            print(\"*\", end=\" \")\n",
    "        else:\n",
    "            print(\" \", end=\" \")\n",
    "    print()            \n",
    "        "
   ]
  },
  {
   "cell_type": "markdown",
   "id": "0037f408",
   "metadata": {},
   "source": [
    "## Hollow Right Angled Triangle "
   ]
  },
  {
   "cell_type": "code",
   "execution_count": 10,
   "id": "76339282",
   "metadata": {},
   "outputs": [
    {
     "name": "stdout",
     "output_type": "stream",
     "text": [
      "* \n",
      "* * \n",
      "*   * \n",
      "* * * * \n"
     ]
    }
   ],
   "source": [
    "rows = int(input(\"Enter the Row size \"))\n",
    "for i in range(1, rows+1):\n",
    "    for j in range(1, i+1):\n",
    "        if j == 1 or i == rows or i == j:\n",
    "            print(\"*\", end=\" \")\n",
    "        else:\n",
    "            print(\" \", end=\" \")\n",
    "    print(\n",
    "        \n",
    "    )            "
   ]
  },
  {
   "cell_type": "markdown",
   "id": "f8ce15a2",
   "metadata": {},
   "source": [
    "## Hollow inverted right angled triangle"
   ]
  },
  {
   "cell_type": "code",
   "execution_count": 2,
   "id": "c3f562c1",
   "metadata": {},
   "outputs": [
    {
     "name": "stdout",
     "output_type": "stream",
     "text": [
      "* * * * * \n",
      "*     * \n",
      "*   * \n",
      "* * \n",
      "* \n"
     ]
    }
   ],
   "source": [
    "rows = int(input(\"Enter the row size:\"))\n",
    "for i in range(rows , 0, -1):\n",
    "    for j in range(1, i+1):\n",
    "        if j ==1 or i == rows or i ==j :\n",
    "            print(\"*\", end=\" \")\n",
    "        else:\n",
    "            print(\" \", end=\" \")\n",
    "    print()            "
   ]
  },
  {
   "cell_type": "markdown",
   "id": "8aded300",
   "metadata": {},
   "source": [
    "## Hollow pyramid pattern"
   ]
  },
  {
   "cell_type": "code",
   "execution_count": 3,
   "id": "d5228ae4",
   "metadata": {},
   "outputs": [
    {
     "name": "stdout",
     "output_type": "stream",
     "text": [
      "        * \n",
      "      *   * \n",
      "    *       * \n",
      "  *           * \n",
      "* * * * * * * * * \n"
     ]
    }
   ],
   "source": [
    "rows = int(input(\"Enter the row size:\"))\n",
    "for i in range(1, rows + 1):\n",
    "    for j in range(rows - i):\n",
    "        print(\" \", end=\" \")\n",
    "    for k in range(1, 2*i):\n",
    "        if k ==1 or k == 2*i-1 or i == rows:\n",
    "            print(\"*\", end=\" \")\n",
    "        else:\n",
    "            print(\" \", end=\" \")\n",
    "    print()               "
   ]
  },
  {
   "cell_type": "markdown",
   "id": "6dd54f52",
   "metadata": {},
   "source": [
    "## Hollow inverted pyramid pattern "
   ]
  },
  {
   "cell_type": "code",
   "execution_count": 4,
   "id": "4d4af948",
   "metadata": {},
   "outputs": [
    {
     "name": "stdout",
     "output_type": "stream",
     "text": [
      "* * * * * * * * * \n",
      "  *           * \n",
      "    *       * \n",
      "      *   * \n",
      "        * \n"
     ]
    }
   ],
   "source": [
    "rows = int(input(\"Enter the row size: \"))\n",
    "for i in range(rows, 0 ,-1):\n",
    "    for j in range(rows - i):\n",
    "        print(\" \", end=\" \")\n",
    "    for k in range (1, 2*i):\n",
    "        if k == 1 or k == 2 * i-1 or i == rows:\n",
    "            print(\"*\", end=\" \")\n",
    "        else:\n",
    "            print(\" \", end=\" \")\n",
    "    print()                "
   ]
  },
  {
   "cell_type": "markdown",
   "id": "aada8cd3",
   "metadata": {},
   "source": [
    "## Hollow diamond pattern \n"
   ]
  },
  {
   "cell_type": "code",
   "execution_count": 5,
   "id": "824baba2",
   "metadata": {},
   "outputs": [
    {
     "name": "stdout",
     "output_type": "stream",
     "text": [
      "        * \n",
      "      *   * \n",
      "    *       * \n",
      "  *           * \n",
      "*               * \n",
      "  *           * \n",
      "    *       * \n",
      "      *   * \n",
      "        * \n"
     ]
    }
   ],
   "source": [
    "rows = int(input(\"Enter the row size :\"))\n",
    "for i in range(1, rows + 1):\n",
    "    for j in range(rows - i):\n",
    "        print(\" \", end=\" \")\n",
    "    for k in range(1,2*i):\n",
    "        if k==1 or k==2*i-1 :\n",
    "            print(\"*\", end=\" \")\n",
    "        else:\n",
    "            print(\" \", end=\" \")\n",
    "    print()\n",
    "    \n",
    "    \n",
    "for i in range(rows -1, 0, -1):\n",
    "    for j in range(rows - i):\n",
    "        print(\" \", end=\" \")\n",
    "    for k in range (1, 2 *i):\n",
    "        if k == 1 or k == 2*i-1:\n",
    "            print(\"*\", end=\" \")\n",
    "        else:\n",
    "            print(\" \",end=\" \")\n",
    "    print()                                   "
   ]
  },
  {
   "cell_type": "markdown",
   "id": "ec5a407e",
   "metadata": {},
   "source": [
    "## Number right angled triangle pattern "
   ]
  },
  {
   "cell_type": "code",
   "execution_count": 6,
   "id": "efa4991c",
   "metadata": {},
   "outputs": [
    {
     "name": "stdout",
     "output_type": "stream",
     "text": [
      "1 \n",
      "1 2 \n",
      "1 2 3 \n"
     ]
    }
   ],
   "source": [
    "rows = int(input(\"Enter the row size :\"))\n",
    "for i in range (1, rows+1):\n",
    "    for j in range(1, i+1):\n",
    "        print(j,end =\" \")\n",
    "    print()"
   ]
  },
  {
   "cell_type": "code",
   "execution_count": null,
   "id": "addd75e4",
   "metadata": {},
   "outputs": [
    {
     "name": "stdout",
     "output_type": "stream",
     "text": [
      "1 2 3 4 5 \n",
      "1 2 3 4 \n",
      "1 2 3 \n",
      "1 2 \n",
      "1 \n"
     ]
    }
   ],
   "source": [
    "rows = int(input(\"Enter the row size :\"))\n",
    "for i in range(rows, 0 , -1):\n",
    "    for j in range(1 , i+1):\n",
    "        print(j , end=\" \")\n",
    "    print()    "
   ]
  },
  {
   "cell_type": "markdown",
   "id": "53757a3d",
   "metadata": {},
   "source": [
    "## Number pyramid pattern"
   ]
  },
  {
   "cell_type": "code",
   "execution_count": 8,
   "id": "ed4e932c",
   "metadata": {},
   "outputs": [
    {
     "name": "stdout",
     "output_type": "stream",
     "text": [
      "        1 \n",
      "      1 2 1 \n",
      "    1 2 3 2 1 \n",
      "  1 2 3 4 3 2 1 \n",
      "1 2 3 4 5 4 3 2 1 \n"
     ]
    }
   ],
   "source": [
    "rows = int(input(\"Enter the row size :\"))\n",
    "for i in range(1, rows + 1):\n",
    "    for j in range(rows - i):\n",
    "        print(\" \", end=\" \")\n",
    "    for k in range (1, i+1):\n",
    "        print(k , end=\" \")\n",
    "    for l in range(i-1,0,-1):\n",
    "        print(l, end=\" \") \n",
    "    print()           "
   ]
  },
  {
   "cell_type": "markdown",
   "id": "790e9920",
   "metadata": {},
   "source": [
    "## Inverted number pyramid pattern "
   ]
  },
  {
   "cell_type": "code",
   "execution_count": 2,
   "id": "357fee8e",
   "metadata": {},
   "outputs": [
    {
     "name": "stdout",
     "output_type": "stream",
     "text": [
      "1 2 3 4 5 4 3 2 1 \n",
      "  1 2 3 4 3 2 1 \n",
      "    1 2 3 2 1 \n",
      "      1 2 1 \n",
      "        1 \n"
     ]
    }
   ],
   "source": [
    "rows = int(input(\"Enter the row size: \"))\n",
    "for i in range(rows , 0 , -1):\n",
    "    for j in range(rows - i):\n",
    "        print(\" \", end=\" \")\n",
    "    for k in range(1 , i+1):\n",
    "        print(k, end=\" \")\n",
    "    for l in range(i-1,0,-1):\n",
    "        print(l, end=\" \")\n",
    "    print()            "
   ]
  },
  {
   "cell_type": "code",
   "execution_count": null,
   "id": "ad38cf45",
   "metadata": {},
   "outputs": [],
   "source": []
  }
 ],
 "metadata": {
  "kernelspec": {
   "display_name": "base",
   "language": "python",
   "name": "python3"
  },
  "language_info": {
   "codemirror_mode": {
    "name": "ipython",
    "version": 3
   },
   "file_extension": ".py",
   "mimetype": "text/x-python",
   "name": "python",
   "nbconvert_exporter": "python",
   "pygments_lexer": "ipython3",
   "version": "3.12.4"
  }
 },
 "nbformat": 4,
 "nbformat_minor": 5
}
